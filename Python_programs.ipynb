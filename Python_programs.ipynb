{
  "nbformat": 4,
  "nbformat_minor": 0,
  "metadata": {
    "colab": {
      "name": "Python programs.ipynb",
      "provenance": [],
      "authorship_tag": "ABX9TyP9gf6dAa/By+M9gsS33qFH",
      "include_colab_link": true
    },
    "kernelspec": {
      "name": "python3",
      "display_name": "Python 3"
    },
    "language_info": {
      "name": "python"
    }
  },
  "cells": [
    {
      "cell_type": "markdown",
      "metadata": {
        "id": "view-in-github",
        "colab_type": "text"
      },
      "source": [
        "<a href=\"https://colab.research.google.com/github/KARTHIK7981/Basic-ML/blob/main/Python_programs.ipynb\" target=\"_parent\"><img src=\"https://colab.research.google.com/assets/colab-badge.svg\" alt=\"Open In Colab\"/></a>"
      ]
    },
    {
      "cell_type": "markdown",
      "metadata": {
        "id": "VBVLcDQNAI7a"
      },
      "source": [
        "1.Sum Of Odd Numbers"
      ]
    },
    {
      "cell_type": "code",
      "metadata": {
        "id": "NJOtg8fTzvUD"
      },
      "source": [
        "n=int(input())\n",
        "s=0\n",
        "for i in range(0,n+1):\n",
        "  if i%2!=0:\n",
        "    s=s+i\n",
        "print(s)"
      ],
      "execution_count": null,
      "outputs": []
    },
    {
      "cell_type": "markdown",
      "metadata": {
        "id": "XYe4pNHu1Xmw"
      },
      "source": [
        "2.Prime Or Not"
      ]
    },
    {
      "cell_type": "code",
      "metadata": {
        "id": "lcbmUN1a70vt"
      },
      "source": [
        "import math\n",
        "num = int(input())\n",
        "\n",
        "if num > 1:\n",
        "    for i in range(2, int(math.sqrt(num)+1)):\n",
        "        if (num % i) == 0:\n",
        "            print(\"Not a Prime number\")\n",
        "            break\n",
        "    else:\n",
        "        print(\"Prime number\")\n",
        "else:\n",
        "    print(\"Not a Prime number\")"
      ],
      "execution_count": null,
      "outputs": []
    },
    {
      "cell_type": "markdown",
      "metadata": {
        "id": "ZnsHVvs68xG1"
      },
      "source": [
        "Factorial Of Number"
      ]
    },
    {
      "cell_type": "code",
      "metadata": {
        "id": "uBBb87A283Gx"
      },
      "source": [
        "a=int(input())\n",
        "fact=1\n",
        "for i in range(1,a+1):\n",
        "  fact=fact*i\n",
        "print(fact)"
      ],
      "execution_count": null,
      "outputs": []
    }
  ]
}