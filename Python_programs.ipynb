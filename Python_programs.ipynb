{
  "nbformat": 4,
  "nbformat_minor": 0,
  "metadata": {
    "colab": {
      "name": "Python programs.ipynb",
      "provenance": [],
      "authorship_tag": "ABX9TyOwIHFmv0jZEuni4OSJygtV",
      "include_colab_link": true
    },
    "kernelspec": {
      "name": "python3",
      "display_name": "Python 3"
    },
    "language_info": {
      "name": "python"
    }
  },
  "cells": [
    {
      "cell_type": "markdown",
      "metadata": {
        "id": "view-in-github",
        "colab_type": "text"
      },
      "source": [
        "<a href=\"https://colab.research.google.com/github/KARTHIK7981/Basic-ML/blob/main/Python_programs.ipynb\" target=\"_parent\"><img src=\"https://colab.research.google.com/assets/colab-badge.svg\" alt=\"Open In Colab\"/></a>"
      ]
    },
    {
      "cell_type": "markdown",
      "metadata": {
        "id": "8YzNbLbQy0Jz"
      },
      "source": [
        ""
      ]
    },
    {
      "cell_type": "markdown",
      "metadata": {
        "id": "nu82F6-vy1PS"
      },
      "source": [
        ""
      ]
    },
    {
      "cell_type": "code",
      "metadata": {
        "id": "KiPtAKzrza7J"
      },
      "source": [
        "1.Sum Of Odd Numbers"
      ],
      "execution_count": null,
      "outputs": []
    },
    {
      "cell_type": "code",
      "metadata": {
        "colab": {
          "base_uri": "https://localhost:8080/"
        },
        "id": "NJOtg8fTzvUD",
        "outputId": "e3408b44-9d71-4945-ca2c-4ac566b8f00f"
      },
      "source": [
        "n=int(input())\n",
        "s=0\n",
        "for i in range(0,n+1):\n",
        "  if i%2!=0:\n",
        "    s=s+i\n",
        "print(s)"
      ],
      "execution_count": 6,
      "outputs": [
        {
          "output_type": "stream",
          "text": [
            "11\n",
            "36\n"
          ],
          "name": "stdout"
        }
      ]
    },
    {
      "cell_type": "markdown",
      "metadata": {
        "id": "XYe4pNHu1Xmw"
      },
      "source": [
        "2.Prime Or Not"
      ]
    },
    {
      "cell_type": "code",
      "metadata": {
        "colab": {
          "base_uri": "https://localhost:8080/"
        },
        "id": "lcbmUN1a70vt",
        "outputId": "2a7caad6-1057-48b4-a792-bee4352b967a"
      },
      "source": [
        "import math\n",
        "num = int(input())\n",
        "\n",
        "if num > 1:\n",
        "    for i in range(2, int(math.sqrt(num)+1)):\n",
        "        if (num % i) == 0:\n",
        "            print(\"Not a Prime number\")\n",
        "            break\n",
        "    else:\n",
        "        print(\"Prime number\")\n",
        "else:\n",
        "    print(\"Not a Prime number\")"
      ],
      "execution_count": 1,
      "outputs": [
        {
          "output_type": "stream",
          "text": [
            "6\n",
            "Not a Prime number\n"
          ],
          "name": "stdout"
        }
      ]
    },
    {
      "cell_type": "markdown",
      "metadata": {
        "id": "ZnsHVvs68xG1"
      },
      "source": [
        "Factorial Of Number"
      ]
    },
    {
      "cell_type": "code",
      "metadata": {
        "colab": {
          "base_uri": "https://localhost:8080/"
        },
        "id": "uBBb87A283Gx",
        "outputId": "9aa75c35-b154-4e0e-bd64-9b60aa2d072e"
      },
      "source": [
        "a=int(input())\n",
        "fact=1\n",
        "for i in range(1,a+1):\n",
        "  fact=fact*i\n",
        "print(fact)"
      ],
      "execution_count": 3,
      "outputs": [
        {
          "output_type": "stream",
          "text": [
            "5\n",
            "120\n"
          ],
          "name": "stdout"
        }
      ]
    }
  ]
}